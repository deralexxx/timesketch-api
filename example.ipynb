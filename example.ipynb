{
 "cells": [
  {
   "cell_type": "heading",
   "metadata": {},
   "level": 1,
   "source": [
    "Authentication"
   ]
  },
  {
   "cell_type": "code",
   "execution_count": 9,
   "metadata": {
    "collapsed": true
   },
   "outputs": [
    {
     "name": "stdout",
     "output_type": "stream",
     "text": [
      "Sketch id\t-\tSketch Name\n--------------------------------\n130\t|\ttest1Untitled sketch\n3\t|\tThe Greendale investigation\n"
     ]
    }
   ],
   "source": [
    "from timesketch_api_client.client import TimesketchApi\n",
    "\n",
    "api_client = TimesketchApi(\"https://demo.timesketch.org\",\"demo\", \"demo\")\n",
    "\n",
    "sketches = api_client.list_sketches()\n",
    "\n",
    "print(\"Sketch id\\t-\\tSketch Name\")\n",
    "print(\"--------------------------------\")\n",
    "for sketch in sketches:\n",
    "       print(str(sketch.id)+\"\\t|\\t\"+ sketch.name)"
   ]
  },
  {
   "cell_type": "heading",
   "metadata": {},
   "level": 1,
   "source": []
  }
 ],
 "metadata": {
  "kernelspec": {
   "display_name": "Python 2",
   "language": "python",
   "name": "python2"
  },
  "language_info": {
   "codemirror_mode": {
    "name": "ipython",
    "version": 2
   },
   "file_extension": ".py",
   "mimetype": "text/x-python",
   "name": "python",
   "nbconvert_exporter": "python",
   "pygments_lexer": "ipython2",
   "version": "2.7.6"
  }
 },
 "nbformat": 4,
 "nbformat_minor": 0
}
